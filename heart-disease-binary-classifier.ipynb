{
 "cells": [
  {
   "cell_type": "code",
   "execution_count": 1,
   "metadata": {
    "_cell_guid": "b1076dfc-b9ad-4769-8c92-a6c4dae69d19",
    "_uuid": "8f2839f25d086af736a60e9eeb907d3b93b6e0e5",
    "execution": {
     "iopub.execute_input": "2020-10-10T08:53:40.622481Z",
     "iopub.status.busy": "2020-10-10T08:53:40.621392Z",
     "iopub.status.idle": "2020-10-10T08:53:40.625600Z",
     "shell.execute_reply": "2020-10-10T08:53:40.626625Z"
    },
    "papermill": {
     "duration": 0.033381,
     "end_time": "2020-10-10T08:53:40.626857",
     "exception": false,
     "start_time": "2020-10-10T08:53:40.593476",
     "status": "completed"
    },
    "tags": []
   },
   "outputs": [
    {
     "name": "stdout",
     "output_type": "stream",
     "text": [
      "/kaggle/input/MLChallenge-2/Test.csv\n",
      "/kaggle/input/MLChallenge-2/final.csv\n"
     ]
    }
   ],
   "source": [
    "# This Python 3 environment comes with many helpful analytics libraries installed\n",
    "# It is defined by the kaggle/python Docker image: https://github.com/kaggle/docker-python\n",
    "# For example, here's several helpful packages to load\n",
    "\n",
    "import numpy as np # linear algebra\n",
    "import pandas as pd # data processing, CSV file I/O (e.g. pd.read_csv)\n",
    "\n",
    "# Input data files are available in the read-only \"../input/\" directory\n",
    "# For example, running this (by clicking run or pressing Shift+Enter) will list all files under the input directory\n",
    "\n",
    "import os\n",
    "for dirname, _, filenames in os.walk('/kaggle/input'):\n",
    "    for filename in filenames:\n",
    "        print(os.path.join(dirname, filename))\n",
    "\n",
    "# You can write up to 5GB to the current directory (/kaggle/working/) that gets preserved as output when you create a version using \"Save & Run All\" \n",
    "# You can also write temporary files to /kaggle/temp/, but they won't be saved outside of the current session"
   ]
  },
  {
   "cell_type": "code",
   "execution_count": 2,
   "metadata": {
    "_cell_guid": "79c7e3d0-c299-4dcb-8224-4455121ee9b0",
    "_uuid": "d629ff2d2480ee46fbb7e2d37f6b5fab8052498a",
    "execution": {
     "iopub.execute_input": "2020-10-10T08:53:40.674912Z",
     "iopub.status.busy": "2020-10-10T08:53:40.673989Z",
     "iopub.status.idle": "2020-10-10T08:53:41.691677Z",
     "shell.execute_reply": "2020-10-10T08:53:41.690979Z"
    },
    "papermill": {
     "duration": 1.043491,
     "end_time": "2020-10-10T08:53:41.691810",
     "exception": false,
     "start_time": "2020-10-10T08:53:40.648319",
     "status": "completed"
    },
    "tags": []
   },
   "outputs": [],
   "source": [
    "#Importing important libraries\n",
    "import seaborn as sns\n",
    "import matplotlib.pyplot as plt\n",
    "%matplotlib inline"
   ]
  },
  {
   "cell_type": "code",
   "execution_count": 3,
   "metadata": {
    "execution": {
     "iopub.execute_input": "2020-10-10T08:53:41.740932Z",
     "iopub.status.busy": "2020-10-10T08:53:41.740039Z",
     "iopub.status.idle": "2020-10-10T08:53:41.774983Z",
     "shell.execute_reply": "2020-10-10T08:53:41.775587Z"
    },
    "papermill": {
     "duration": 0.061507,
     "end_time": "2020-10-10T08:53:41.775737",
     "exception": false,
     "start_time": "2020-10-10T08:53:41.714230",
     "status": "completed"
    },
    "tags": []
   },
   "outputs": [
    {
     "data": {
      "text/html": [
       "<div>\n",
       "<style scoped>\n",
       "    .dataframe tbody tr th:only-of-type {\n",
       "        vertical-align: middle;\n",
       "    }\n",
       "\n",
       "    .dataframe tbody tr th {\n",
       "        vertical-align: top;\n",
       "    }\n",
       "\n",
       "    .dataframe thead th {\n",
       "        text-align: right;\n",
       "    }\n",
       "</style>\n",
       "<table border=\"1\" class=\"dataframe\">\n",
       "  <thead>\n",
       "    <tr style=\"text-align: right;\">\n",
       "      <th></th>\n",
       "      <th>ID</th>\n",
       "      <th>age</th>\n",
       "      <th>sex</th>\n",
       "      <th>cp</th>\n",
       "      <th>trestbps</th>\n",
       "      <th>chol</th>\n",
       "      <th>fbs</th>\n",
       "      <th>restecg</th>\n",
       "      <th>thalach</th>\n",
       "      <th>exang</th>\n",
       "      <th>oldpeak</th>\n",
       "      <th>slope</th>\n",
       "      <th>ca</th>\n",
       "      <th>thal</th>\n",
       "      <th>target</th>\n",
       "    </tr>\n",
       "  </thead>\n",
       "  <tbody>\n",
       "    <tr>\n",
       "      <th>0</th>\n",
       "      <td>29</td>\n",
       "      <td>65</td>\n",
       "      <td>0</td>\n",
       "      <td>2</td>\n",
       "      <td>140</td>\n",
       "      <td>417</td>\n",
       "      <td>1</td>\n",
       "      <td>0</td>\n",
       "      <td>157</td>\n",
       "      <td>0</td>\n",
       "      <td>0.8</td>\n",
       "      <td>2</td>\n",
       "      <td>1</td>\n",
       "      <td>2</td>\n",
       "      <td>1</td>\n",
       "    </tr>\n",
       "    <tr>\n",
       "      <th>1</th>\n",
       "      <td>57</td>\n",
       "      <td>48</td>\n",
       "      <td>1</td>\n",
       "      <td>0</td>\n",
       "      <td>122</td>\n",
       "      <td>222</td>\n",
       "      <td>0</td>\n",
       "      <td>0</td>\n",
       "      <td>186</td>\n",
       "      <td>0</td>\n",
       "      <td>0.0</td>\n",
       "      <td>2</td>\n",
       "      <td>0</td>\n",
       "      <td>2</td>\n",
       "      <td>1</td>\n",
       "    </tr>\n",
       "    <tr>\n",
       "      <th>2</th>\n",
       "      <td>9</td>\n",
       "      <td>52</td>\n",
       "      <td>1</td>\n",
       "      <td>2</td>\n",
       "      <td>172</td>\n",
       "      <td>199</td>\n",
       "      <td>1</td>\n",
       "      <td>1</td>\n",
       "      <td>162</td>\n",
       "      <td>0</td>\n",
       "      <td>0.5</td>\n",
       "      <td>2</td>\n",
       "      <td>0</td>\n",
       "      <td>3</td>\n",
       "      <td>1</td>\n",
       "    </tr>\n",
       "    <tr>\n",
       "      <th>3</th>\n",
       "      <td>147</td>\n",
       "      <td>44</td>\n",
       "      <td>0</td>\n",
       "      <td>2</td>\n",
       "      <td>118</td>\n",
       "      <td>242</td>\n",
       "      <td>0</td>\n",
       "      <td>1</td>\n",
       "      <td>149</td>\n",
       "      <td>0</td>\n",
       "      <td>0.3</td>\n",
       "      <td>1</td>\n",
       "      <td>1</td>\n",
       "      <td>2</td>\n",
       "      <td>1</td>\n",
       "    </tr>\n",
       "    <tr>\n",
       "      <th>4</th>\n",
       "      <td>303</td>\n",
       "      <td>57</td>\n",
       "      <td>0</td>\n",
       "      <td>1</td>\n",
       "      <td>130</td>\n",
       "      <td>236</td>\n",
       "      <td>0</td>\n",
       "      <td>0</td>\n",
       "      <td>174</td>\n",
       "      <td>0</td>\n",
       "      <td>0.0</td>\n",
       "      <td>1</td>\n",
       "      <td>1</td>\n",
       "      <td>2</td>\n",
       "      <td>0</td>\n",
       "    </tr>\n",
       "  </tbody>\n",
       "</table>\n",
       "</div>"
      ],
      "text/plain": [
       "    ID  age  sex  cp  trestbps  chol  fbs  restecg  thalach  exang  oldpeak  \\\n",
       "0   29   65    0   2       140   417    1        0      157      0      0.8   \n",
       "1   57   48    1   0       122   222    0        0      186      0      0.0   \n",
       "2    9   52    1   2       172   199    1        1      162      0      0.5   \n",
       "3  147   44    0   2       118   242    0        1      149      0      0.3   \n",
       "4  303   57    0   1       130   236    0        0      174      0      0.0   \n",
       "\n",
       "   slope  ca  thal  target  \n",
       "0      2   1     2       1  \n",
       "1      2   0     2       1  \n",
       "2      2   0     3       1  \n",
       "3      1   1     2       1  \n",
       "4      1   1     2       0  "
      ]
     },
     "execution_count": 3,
     "metadata": {},
     "output_type": "execute_result"
    }
   ],
   "source": [
    "#Training Data\n",
    "raw_data = pd.read_csv('../input/MLChallenge-2/final.csv')\n",
    "raw_data.head()"
   ]
  },
  {
   "cell_type": "code",
   "execution_count": 4,
   "metadata": {
    "execution": {
     "iopub.execute_input": "2020-10-10T08:53:41.823429Z",
     "iopub.status.busy": "2020-10-10T08:53:41.822623Z",
     "iopub.status.idle": "2020-10-10T08:53:41.877510Z",
     "shell.execute_reply": "2020-10-10T08:53:41.876849Z"
    },
    "papermill": {
     "duration": 0.081035,
     "end_time": "2020-10-10T08:53:41.877630",
     "exception": false,
     "start_time": "2020-10-10T08:53:41.796595",
     "status": "completed"
    },
    "tags": []
   },
   "outputs": [
    {
     "data": {
      "text/html": [
       "<div>\n",
       "<style scoped>\n",
       "    .dataframe tbody tr th:only-of-type {\n",
       "        vertical-align: middle;\n",
       "    }\n",
       "\n",
       "    .dataframe tbody tr th {\n",
       "        vertical-align: top;\n",
       "    }\n",
       "\n",
       "    .dataframe thead th {\n",
       "        text-align: right;\n",
       "    }\n",
       "</style>\n",
       "<table border=\"1\" class=\"dataframe\">\n",
       "  <thead>\n",
       "    <tr style=\"text-align: right;\">\n",
       "      <th></th>\n",
       "      <th>ID</th>\n",
       "      <th>age</th>\n",
       "      <th>sex</th>\n",
       "      <th>cp</th>\n",
       "      <th>trestbps</th>\n",
       "      <th>chol</th>\n",
       "      <th>fbs</th>\n",
       "      <th>restecg</th>\n",
       "      <th>thalach</th>\n",
       "      <th>exang</th>\n",
       "      <th>oldpeak</th>\n",
       "      <th>slope</th>\n",
       "      <th>ca</th>\n",
       "      <th>thal</th>\n",
       "      <th>target</th>\n",
       "    </tr>\n",
       "  </thead>\n",
       "  <tbody>\n",
       "    <tr>\n",
       "      <th>35</th>\n",
       "      <td>182</td>\n",
       "      <td>65</td>\n",
       "      <td>0</td>\n",
       "      <td>0</td>\n",
       "      <td>150</td>\n",
       "      <td>225</td>\n",
       "      <td>0</td>\n",
       "      <td>0</td>\n",
       "      <td>114</td>\n",
       "      <td>0</td>\n",
       "      <td>1.0</td>\n",
       "      <td>1</td>\n",
       "      <td>3</td>\n",
       "      <td>3</td>\n",
       "      <td>0</td>\n",
       "    </tr>\n",
       "    <tr>\n",
       "      <th>149</th>\n",
       "      <td>13</td>\n",
       "      <td>49</td>\n",
       "      <td>1</td>\n",
       "      <td>1</td>\n",
       "      <td>130</td>\n",
       "      <td>266</td>\n",
       "      <td>0</td>\n",
       "      <td>1</td>\n",
       "      <td>171</td>\n",
       "      <td>0</td>\n",
       "      <td>0.6</td>\n",
       "      <td>2</td>\n",
       "      <td>0</td>\n",
       "      <td>2</td>\n",
       "      <td>1</td>\n",
       "    </tr>\n",
       "    <tr>\n",
       "      <th>56</th>\n",
       "      <td>267</td>\n",
       "      <td>55</td>\n",
       "      <td>0</td>\n",
       "      <td>0</td>\n",
       "      <td>180</td>\n",
       "      <td>327</td>\n",
       "      <td>0</td>\n",
       "      <td>2</td>\n",
       "      <td>117</td>\n",
       "      <td>1</td>\n",
       "      <td>3.4</td>\n",
       "      <td>1</td>\n",
       "      <td>0</td>\n",
       "      <td>2</td>\n",
       "      <td>0</td>\n",
       "    </tr>\n",
       "    <tr>\n",
       "      <th>109</th>\n",
       "      <td>209</td>\n",
       "      <td>49</td>\n",
       "      <td>1</td>\n",
       "      <td>2</td>\n",
       "      <td>120</td>\n",
       "      <td>188</td>\n",
       "      <td>0</td>\n",
       "      <td>1</td>\n",
       "      <td>139</td>\n",
       "      <td>0</td>\n",
       "      <td>2.0</td>\n",
       "      <td>1</td>\n",
       "      <td>3</td>\n",
       "      <td>3</td>\n",
       "      <td>0</td>\n",
       "    </tr>\n",
       "    <tr>\n",
       "      <th>203</th>\n",
       "      <td>104</td>\n",
       "      <td>42</td>\n",
       "      <td>1</td>\n",
       "      <td>2</td>\n",
       "      <td>120</td>\n",
       "      <td>240</td>\n",
       "      <td>1</td>\n",
       "      <td>1</td>\n",
       "      <td>194</td>\n",
       "      <td>0</td>\n",
       "      <td>0.8</td>\n",
       "      <td>0</td>\n",
       "      <td>0</td>\n",
       "      <td>3</td>\n",
       "      <td>1</td>\n",
       "    </tr>\n",
       "  </tbody>\n",
       "</table>\n",
       "</div>"
      ],
      "text/plain": [
       "      ID  age  sex  cp  trestbps  chol  fbs  restecg  thalach  exang  oldpeak  \\\n",
       "35   182   65    0   0       150   225    0        0      114      0      1.0   \n",
       "149   13   49    1   1       130   266    0        1      171      0      0.6   \n",
       "56   267   55    0   0       180   327    0        2      117      1      3.4   \n",
       "109  209   49    1   2       120   188    0        1      139      0      2.0   \n",
       "203  104   42    1   2       120   240    1        1      194      0      0.8   \n",
       "\n",
       "     slope  ca  thal  target  \n",
       "35       1   3     3       0  \n",
       "149      2   0     2       1  \n",
       "56       1   0     2       0  \n",
       "109      1   3     3       0  \n",
       "203      0   0     3       1  "
      ]
     },
     "execution_count": 4,
     "metadata": {},
     "output_type": "execute_result"
    }
   ],
   "source": [
    "#Shuffle the data in order to ensure that each data point creates an \"independent\" change on the model, without being biased by the same points before them.\n",
    "from sklearn.utils import shuffle\n",
    "raw_data = shuffle(raw_data)\n",
    "\n",
    "raw_data.head()"
   ]
  },
  {
   "cell_type": "code",
   "execution_count": 5,
   "metadata": {
    "execution": {
     "iopub.execute_input": "2020-10-10T08:53:41.929831Z",
     "iopub.status.busy": "2020-10-10T08:53:41.928771Z",
     "iopub.status.idle": "2020-10-10T08:53:41.933600Z",
     "shell.execute_reply": "2020-10-10T08:53:41.932979Z"
    },
    "papermill": {
     "duration": 0.03429,
     "end_time": "2020-10-10T08:53:41.933727",
     "exception": false,
     "start_time": "2020-10-10T08:53:41.899437",
     "status": "completed"
    },
    "tags": []
   },
   "outputs": [
    {
     "data": {
      "text/plain": [
       "ID          0\n",
       "age         0\n",
       "sex         0\n",
       "cp          0\n",
       "trestbps    0\n",
       "chol        0\n",
       "fbs         0\n",
       "restecg     0\n",
       "thalach     0\n",
       "exang       0\n",
       "oldpeak     0\n",
       "slope       0\n",
       "ca          0\n",
       "thal        0\n",
       "target      0\n",
       "dtype: int64"
      ]
     },
     "execution_count": 5,
     "metadata": {},
     "output_type": "execute_result"
    }
   ],
   "source": [
    "#Checking for Missing values in the data\n",
    "#We also check for Caregorical Data but that isn't present so no need to label encode data\n",
    "raw_data.isnull().sum(axis=0)"
   ]
  },
  {
   "cell_type": "code",
   "execution_count": 6,
   "metadata": {
    "execution": {
     "iopub.execute_input": "2020-10-10T08:53:41.986324Z",
     "iopub.status.busy": "2020-10-10T08:53:41.985273Z",
     "iopub.status.idle": "2020-10-10T08:53:41.989536Z",
     "shell.execute_reply": "2020-10-10T08:53:41.988821Z"
    },
    "papermill": {
     "duration": 0.033741,
     "end_time": "2020-10-10T08:53:41.989658",
     "exception": false,
     "start_time": "2020-10-10T08:53:41.955917",
     "status": "completed"
    },
    "tags": []
   },
   "outputs": [
    {
     "data": {
      "text/plain": [
       "False"
      ]
     },
     "execution_count": 6,
     "metadata": {},
     "output_type": "execute_result"
    }
   ],
   "source": [
    "#Re-ensuring missing value data\n",
    "raw_data.isnull().values.any()"
   ]
  },
  {
   "cell_type": "code",
   "execution_count": 7,
   "metadata": {
    "execution": {
     "iopub.execute_input": "2020-10-10T08:53:42.046412Z",
     "iopub.status.busy": "2020-10-10T08:53:42.045333Z",
     "iopub.status.idle": "2020-10-10T08:53:42.101335Z",
     "shell.execute_reply": "2020-10-10T08:53:42.100704Z"
    },
    "papermill": {
     "duration": 0.088916,
     "end_time": "2020-10-10T08:53:42.101460",
     "exception": false,
     "start_time": "2020-10-10T08:53:42.012544",
     "status": "completed"
    },
    "tags": []
   },
   "outputs": [
    {
     "data": {
      "text/html": [
       "<div>\n",
       "<style scoped>\n",
       "    .dataframe tbody tr th:only-of-type {\n",
       "        vertical-align: middle;\n",
       "    }\n",
       "\n",
       "    .dataframe tbody tr th {\n",
       "        vertical-align: top;\n",
       "    }\n",
       "\n",
       "    .dataframe thead th {\n",
       "        text-align: right;\n",
       "    }\n",
       "</style>\n",
       "<table border=\"1\" class=\"dataframe\">\n",
       "  <thead>\n",
       "    <tr style=\"text-align: right;\">\n",
       "      <th></th>\n",
       "      <th>ID</th>\n",
       "      <th>age</th>\n",
       "      <th>sex</th>\n",
       "      <th>cp</th>\n",
       "      <th>trestbps</th>\n",
       "      <th>chol</th>\n",
       "      <th>fbs</th>\n",
       "      <th>restecg</th>\n",
       "      <th>thalach</th>\n",
       "      <th>exang</th>\n",
       "      <th>oldpeak</th>\n",
       "      <th>slope</th>\n",
       "      <th>ca</th>\n",
       "      <th>thal</th>\n",
       "      <th>target</th>\n",
       "    </tr>\n",
       "  </thead>\n",
       "  <tbody>\n",
       "    <tr>\n",
       "      <th>count</th>\n",
       "      <td>253.000000</td>\n",
       "      <td>253.000000</td>\n",
       "      <td>253.000000</td>\n",
       "      <td>253.000000</td>\n",
       "      <td>253.000000</td>\n",
       "      <td>253.000000</td>\n",
       "      <td>253.000000</td>\n",
       "      <td>253.000000</td>\n",
       "      <td>253.000000</td>\n",
       "      <td>253.000000</td>\n",
       "      <td>253.000000</td>\n",
       "      <td>253.000000</td>\n",
       "      <td>253.000000</td>\n",
       "      <td>253.000000</td>\n",
       "      <td>253.000000</td>\n",
       "    </tr>\n",
       "    <tr>\n",
       "      <th>mean</th>\n",
       "      <td>153.339921</td>\n",
       "      <td>53.976285</td>\n",
       "      <td>0.683794</td>\n",
       "      <td>0.980237</td>\n",
       "      <td>131.822134</td>\n",
       "      <td>245.051383</td>\n",
       "      <td>0.138340</td>\n",
       "      <td>0.509881</td>\n",
       "      <td>150.260870</td>\n",
       "      <td>0.332016</td>\n",
       "      <td>1.037945</td>\n",
       "      <td>1.399209</td>\n",
       "      <td>0.691700</td>\n",
       "      <td>2.312253</td>\n",
       "      <td>0.541502</td>\n",
       "    </tr>\n",
       "    <tr>\n",
       "      <th>std</th>\n",
       "      <td>88.442134</td>\n",
       "      <td>9.156890</td>\n",
       "      <td>0.465916</td>\n",
       "      <td>1.032990</td>\n",
       "      <td>17.288518</td>\n",
       "      <td>52.583053</td>\n",
       "      <td>0.345941</td>\n",
       "      <td>0.524122</td>\n",
       "      <td>22.538924</td>\n",
       "      <td>0.471870</td>\n",
       "      <td>1.163799</td>\n",
       "      <td>0.612955</td>\n",
       "      <td>1.011742</td>\n",
       "      <td>0.618280</td>\n",
       "      <td>0.499262</td>\n",
       "    </tr>\n",
       "    <tr>\n",
       "      <th>min</th>\n",
       "      <td>1.000000</td>\n",
       "      <td>29.000000</td>\n",
       "      <td>0.000000</td>\n",
       "      <td>0.000000</td>\n",
       "      <td>94.000000</td>\n",
       "      <td>126.000000</td>\n",
       "      <td>0.000000</td>\n",
       "      <td>0.000000</td>\n",
       "      <td>90.000000</td>\n",
       "      <td>0.000000</td>\n",
       "      <td>0.000000</td>\n",
       "      <td>0.000000</td>\n",
       "      <td>0.000000</td>\n",
       "      <td>0.000000</td>\n",
       "      <td>0.000000</td>\n",
       "    </tr>\n",
       "    <tr>\n",
       "      <th>25%</th>\n",
       "      <td>78.000000</td>\n",
       "      <td>47.000000</td>\n",
       "      <td>0.000000</td>\n",
       "      <td>0.000000</td>\n",
       "      <td>120.000000</td>\n",
       "      <td>210.000000</td>\n",
       "      <td>0.000000</td>\n",
       "      <td>0.000000</td>\n",
       "      <td>134.000000</td>\n",
       "      <td>0.000000</td>\n",
       "      <td>0.000000</td>\n",
       "      <td>1.000000</td>\n",
       "      <td>0.000000</td>\n",
       "      <td>2.000000</td>\n",
       "      <td>0.000000</td>\n",
       "    </tr>\n",
       "    <tr>\n",
       "      <th>50%</th>\n",
       "      <td>152.000000</td>\n",
       "      <td>55.000000</td>\n",
       "      <td>1.000000</td>\n",
       "      <td>1.000000</td>\n",
       "      <td>130.000000</td>\n",
       "      <td>239.000000</td>\n",
       "      <td>0.000000</td>\n",
       "      <td>0.000000</td>\n",
       "      <td>154.000000</td>\n",
       "      <td>0.000000</td>\n",
       "      <td>0.700000</td>\n",
       "      <td>1.000000</td>\n",
       "      <td>0.000000</td>\n",
       "      <td>2.000000</td>\n",
       "      <td>1.000000</td>\n",
       "    </tr>\n",
       "    <tr>\n",
       "      <th>75%</th>\n",
       "      <td>230.000000</td>\n",
       "      <td>60.000000</td>\n",
       "      <td>1.000000</td>\n",
       "      <td>2.000000</td>\n",
       "      <td>140.000000</td>\n",
       "      <td>271.000000</td>\n",
       "      <td>0.000000</td>\n",
       "      <td>1.000000</td>\n",
       "      <td>166.000000</td>\n",
       "      <td>1.000000</td>\n",
       "      <td>1.600000</td>\n",
       "      <td>2.000000</td>\n",
       "      <td>1.000000</td>\n",
       "      <td>3.000000</td>\n",
       "      <td>1.000000</td>\n",
       "    </tr>\n",
       "    <tr>\n",
       "      <th>max</th>\n",
       "      <td>303.000000</td>\n",
       "      <td>77.000000</td>\n",
       "      <td>1.000000</td>\n",
       "      <td>3.000000</td>\n",
       "      <td>200.000000</td>\n",
       "      <td>564.000000</td>\n",
       "      <td>1.000000</td>\n",
       "      <td>2.000000</td>\n",
       "      <td>202.000000</td>\n",
       "      <td>1.000000</td>\n",
       "      <td>6.200000</td>\n",
       "      <td>2.000000</td>\n",
       "      <td>4.000000</td>\n",
       "      <td>3.000000</td>\n",
       "      <td>1.000000</td>\n",
       "    </tr>\n",
       "  </tbody>\n",
       "</table>\n",
       "</div>"
      ],
      "text/plain": [
       "               ID         age         sex          cp    trestbps        chol  \\\n",
       "count  253.000000  253.000000  253.000000  253.000000  253.000000  253.000000   \n",
       "mean   153.339921   53.976285    0.683794    0.980237  131.822134  245.051383   \n",
       "std     88.442134    9.156890    0.465916    1.032990   17.288518   52.583053   \n",
       "min      1.000000   29.000000    0.000000    0.000000   94.000000  126.000000   \n",
       "25%     78.000000   47.000000    0.000000    0.000000  120.000000  210.000000   \n",
       "50%    152.000000   55.000000    1.000000    1.000000  130.000000  239.000000   \n",
       "75%    230.000000   60.000000    1.000000    2.000000  140.000000  271.000000   \n",
       "max    303.000000   77.000000    1.000000    3.000000  200.000000  564.000000   \n",
       "\n",
       "              fbs     restecg     thalach       exang     oldpeak       slope  \\\n",
       "count  253.000000  253.000000  253.000000  253.000000  253.000000  253.000000   \n",
       "mean     0.138340    0.509881  150.260870    0.332016    1.037945    1.399209   \n",
       "std      0.345941    0.524122   22.538924    0.471870    1.163799    0.612955   \n",
       "min      0.000000    0.000000   90.000000    0.000000    0.000000    0.000000   \n",
       "25%      0.000000    0.000000  134.000000    0.000000    0.000000    1.000000   \n",
       "50%      0.000000    0.000000  154.000000    0.000000    0.700000    1.000000   \n",
       "75%      0.000000    1.000000  166.000000    1.000000    1.600000    2.000000   \n",
       "max      1.000000    2.000000  202.000000    1.000000    6.200000    2.000000   \n",
       "\n",
       "               ca        thal      target  \n",
       "count  253.000000  253.000000  253.000000  \n",
       "mean     0.691700    2.312253    0.541502  \n",
       "std      1.011742    0.618280    0.499262  \n",
       "min      0.000000    0.000000    0.000000  \n",
       "25%      0.000000    2.000000    0.000000  \n",
       "50%      0.000000    2.000000    1.000000  \n",
       "75%      1.000000    3.000000    1.000000  \n",
       "max      4.000000    3.000000    1.000000  "
      ]
     },
     "execution_count": 7,
     "metadata": {},
     "output_type": "execute_result"
    }
   ],
   "source": [
    "#Understanding Dataset\n",
    "raw_data.describe()"
   ]
  },
  {
   "cell_type": "code",
   "execution_count": 8,
   "metadata": {
    "execution": {
     "iopub.execute_input": "2020-10-10T08:53:42.160973Z",
     "iopub.status.busy": "2020-10-10T08:53:42.159763Z",
     "iopub.status.idle": "2020-10-10T08:53:42.164547Z",
     "shell.execute_reply": "2020-10-10T08:53:42.163874Z"
    },
    "papermill": {
     "duration": 0.03738,
     "end_time": "2020-10-10T08:53:42.164670",
     "exception": false,
     "start_time": "2020-10-10T08:53:42.127290",
     "status": "completed"
    },
    "tags": []
   },
   "outputs": [
    {
     "data": {
      "text/plain": [
       "1    137\n",
       "0    116\n",
       "Name: target, dtype: int64"
      ]
     },
     "execution_count": 8,
     "metadata": {},
     "output_type": "execute_result"
    }
   ],
   "source": [
    "#Comparing the two classes if outputs in order to ensure the training is done on both equally\n",
    "raw_data['target'].value_counts()"
   ]
  },
  {
   "cell_type": "code",
   "execution_count": 9,
   "metadata": {
    "execution": {
     "iopub.execute_input": "2020-10-10T08:53:42.222396Z",
     "iopub.status.busy": "2020-10-10T08:53:42.221640Z",
     "iopub.status.idle": "2020-10-10T08:53:42.392801Z",
     "shell.execute_reply": "2020-10-10T08:53:42.392188Z"
    },
    "papermill": {
     "duration": 0.203958,
     "end_time": "2020-10-10T08:53:42.392915",
     "exception": false,
     "start_time": "2020-10-10T08:53:42.188957",
     "status": "completed"
    },
    "tags": []
   },
   "outputs": [
    {
     "data": {
      "text/plain": [
       "<matplotlib.axes._subplots.AxesSubplot at 0x7f109a74cb90>"
      ]
     },
     "execution_count": 9,
     "metadata": {},
     "output_type": "execute_result"
    },
    {
     "data": {
      "image/png": "[encoded data removed]",
      "text/plain": [
       "<Figure size 432x288 with 1 Axes>"
      ]
     },
     "metadata": {
      "needs_background": "light"
     },
     "output_type": "display_data"
    }
   ],
   "source": [
    "#Visualizing the above\n",
    "sns.countplot(raw_data['target'])"
   ]
  },
  {
   "cell_type": "code",
   "execution_count": 10,
   "metadata": {
    "execution": {
     "iopub.execute_input": "2020-10-10T08:53:42.467570Z",
     "iopub.status.busy": "2020-10-10T08:53:42.464712Z",
     "iopub.status.idle": "2020-10-10T08:53:43.149501Z",
     "shell.execute_reply": "2020-10-10T08:53:43.148723Z"
    },
    "papermill": {
     "duration": 0.7309,
     "end_time": "2020-10-10T08:53:43.149630",
     "exception": false,
     "start_time": "2020-10-10T08:53:42.418730",
     "status": "completed"
    },
    "tags": []
   },
   "outputs": [
    {
     "data": {
      "text/plain": [
       "<matplotlib.axes._subplots.AxesSubplot at 0x7f109a29ce90>"
      ]
     },
     "execution_count": 10,
     "metadata": {},
     "output_type": "execute_result"
    },
    {
     "data": {
      "image/png": "[encoded data removed]",
      "text/plain": [
       "<Figure size 432x288 with 1 Axes>"
      ]
     },
     "metadata": {
      "needs_background": "light"
     },
     "output_type": "display_data"
    }
   ],
   "source": [
    "#Examining age and target relationship as age is trivially the most important factor\n",
    "sns.countplot(x='age', hue='target', data=raw_data, palette='colorblind', edgecolor=sns.color_palette('dark', n_colors=1))"
   ]
  },
  {
   "cell_type": "code",
   "execution_count": 11,
   "metadata": {
    "execution": {
     "iopub.execute_input": "2020-10-10T08:53:43.213153Z",
     "iopub.status.busy": "2020-10-10T08:53:43.212042Z",
     "iopub.status.idle": "2020-10-10T08:53:43.240331Z",
     "shell.execute_reply": "2020-10-10T08:53:43.239669Z"
    },
    "papermill": {
     "duration": 0.063386,
     "end_time": "2020-10-10T08:53:43.240448",
     "exception": false,
     "start_time": "2020-10-10T08:53:43.177062",
     "status": "completed"
    },
    "tags": []
   },
   "outputs": [
    {
     "data": {
      "text/html": [
       "<div>\n",
       "<style scoped>\n",
       "    .dataframe tbody tr th:only-of-type {\n",
       "        vertical-align: middle;\n",
       "    }\n",
       "\n",
       "    .dataframe tbody tr th {\n",
       "        vertical-align: top;\n",
       "    }\n",
       "\n",
       "    .dataframe thead th {\n",
       "        text-align: right;\n",
       "    }\n",
       "</style>\n",
       "<table border=\"1\" class=\"dataframe\">\n",
       "  <thead>\n",
       "    <tr style=\"text-align: right;\">\n",
       "      <th></th>\n",
       "      <th>ID</th>\n",
       "      <th>age</th>\n",
       "      <th>sex</th>\n",
       "      <th>cp</th>\n",
       "      <th>trestbps</th>\n",
       "      <th>chol</th>\n",
       "      <th>fbs</th>\n",
       "      <th>restecg</th>\n",
       "      <th>thalach</th>\n",
       "      <th>exang</th>\n",
       "      <th>oldpeak</th>\n",
       "      <th>slope</th>\n",
       "      <th>ca</th>\n",
       "      <th>thal</th>\n",
       "      <th>target</th>\n",
       "    </tr>\n",
       "  </thead>\n",
       "  <tbody>\n",
       "    <tr>\n",
       "      <th>ID</th>\n",
       "      <td>1.000000</td>\n",
       "      <td>0.172234</td>\n",
       "      <td>0.198785</td>\n",
       "      <td>-0.348018</td>\n",
       "      <td>0.121732</td>\n",
       "      <td>-0.012450</td>\n",
       "      <td>0.010519</td>\n",
       "      <td>0.008488</td>\n",
       "      <td>-0.412642</td>\n",
       "      <td>0.397218</td>\n",
       "      <td>0.290046</td>\n",
       "      <td>-0.257103</td>\n",
       "      <td>0.375470</td>\n",
       "      <td>0.269244</td>\n",
       "      <td>-0.866391</td>\n",
       "    </tr>\n",
       "    <tr>\n",
       "      <th>age</th>\n",
       "      <td>0.172234</td>\n",
       "      <td>1.000000</td>\n",
       "      <td>-0.097568</td>\n",
       "      <td>-0.047036</td>\n",
       "      <td>0.269714</td>\n",
       "      <td>0.193554</td>\n",
       "      <td>0.100004</td>\n",
       "      <td>-0.114881</td>\n",
       "      <td>-0.416952</td>\n",
       "      <td>0.123058</td>\n",
       "      <td>0.221756</td>\n",
       "      <td>-0.166574</td>\n",
       "      <td>0.262633</td>\n",
       "      <td>0.060891</td>\n",
       "      <td>-0.234145</td>\n",
       "    </tr>\n",
       "    <tr>\n",
       "      <th>sex</th>\n",
       "      <td>0.198785</td>\n",
       "      <td>-0.097568</td>\n",
       "      <td>1.000000</td>\n",
       "      <td>-0.013036</td>\n",
       "      <td>-0.026716</td>\n",
       "      <td>-0.181231</td>\n",
       "      <td>0.100135</td>\n",
       "      <td>-0.084655</td>\n",
       "      <td>0.015444</td>\n",
       "      <td>0.136478</td>\n",
       "      <td>0.096863</td>\n",
       "      <td>-0.028669</td>\n",
       "      <td>0.137520</td>\n",
       "      <td>0.220136</td>\n",
       "      <td>-0.318666</td>\n",
       "    </tr>\n",
       "    <tr>\n",
       "      <th>cp</th>\n",
       "      <td>-0.348018</td>\n",
       "      <td>-0.047036</td>\n",
       "      <td>-0.013036</td>\n",
       "      <td>1.000000</td>\n",
       "      <td>0.064463</td>\n",
       "      <td>-0.049294</td>\n",
       "      <td>0.118727</td>\n",
       "      <td>0.033345</td>\n",
       "      <td>0.272585</td>\n",
       "      <td>-0.434243</td>\n",
       "      <td>-0.120185</td>\n",
       "      <td>0.093984</td>\n",
       "      <td>-0.123558</td>\n",
       "      <td>-0.176697</td>\n",
       "      <td>0.397858</td>\n",
       "    </tr>\n",
       "    <tr>\n",
       "      <th>trestbps</th>\n",
       "      <td>0.121732</td>\n",
       "      <td>0.269714</td>\n",
       "      <td>-0.026716</td>\n",
       "      <td>0.064463</td>\n",
       "      <td>1.000000</td>\n",
       "      <td>0.107065</td>\n",
       "      <td>0.169342</td>\n",
       "      <td>-0.072283</td>\n",
       "      <td>-0.079355</td>\n",
       "      <td>0.067098</td>\n",
       "      <td>0.206615</td>\n",
       "      <td>-0.122464</td>\n",
       "      <td>0.097582</td>\n",
       "      <td>0.031946</td>\n",
       "      <td>-0.167177</td>\n",
       "    </tr>\n",
       "    <tr>\n",
       "      <th>chol</th>\n",
       "      <td>-0.012450</td>\n",
       "      <td>0.193554</td>\n",
       "      <td>-0.181231</td>\n",
       "      <td>-0.049294</td>\n",
       "      <td>0.107065</td>\n",
       "      <td>1.000000</td>\n",
       "      <td>-0.015226</td>\n",
       "      <td>-0.135582</td>\n",
       "      <td>-0.003785</td>\n",
       "      <td>0.101345</td>\n",
       "      <td>0.015427</td>\n",
       "      <td>0.008472</td>\n",
       "      <td>0.018424</td>\n",
       "      <td>0.096053</td>\n",
       "      <td>-0.035225</td>\n",
       "    </tr>\n",
       "    <tr>\n",
       "      <th>fbs</th>\n",
       "      <td>0.010519</td>\n",
       "      <td>0.100004</td>\n",
       "      <td>0.100135</td>\n",
       "      <td>0.118727</td>\n",
       "      <td>0.169342</td>\n",
       "      <td>-0.015226</td>\n",
       "      <td>1.000000</td>\n",
       "      <td>-0.106056</td>\n",
       "      <td>-0.000066</td>\n",
       "      <td>0.033534</td>\n",
       "      <td>0.049006</td>\n",
       "      <td>-0.093053</td>\n",
       "      <td>0.088327</td>\n",
       "      <td>-0.072892</td>\n",
       "      <td>-0.021886</td>\n",
       "    </tr>\n",
       "    <tr>\n",
       "      <th>restecg</th>\n",
       "      <td>0.008488</td>\n",
       "      <td>-0.114881</td>\n",
       "      <td>-0.084655</td>\n",
       "      <td>0.033345</td>\n",
       "      <td>-0.072283</td>\n",
       "      <td>-0.135582</td>\n",
       "      <td>-0.106056</td>\n",
       "      <td>1.000000</td>\n",
       "      <td>0.067636</td>\n",
       "      <td>-0.061454</td>\n",
       "      <td>-0.053963</td>\n",
       "      <td>0.117369</td>\n",
       "      <td>-0.091516</td>\n",
       "      <td>0.021055</td>\n",
       "      <td>0.108372</td>\n",
       "    </tr>\n",
       "    <tr>\n",
       "      <th>thalach</th>\n",
       "      <td>-0.412642</td>\n",
       "      <td>-0.416952</td>\n",
       "      <td>0.015444</td>\n",
       "      <td>0.272585</td>\n",
       "      <td>-0.079355</td>\n",
       "      <td>-0.003785</td>\n",
       "      <td>-0.000066</td>\n",
       "      <td>0.067636</td>\n",
       "      <td>1.000000</td>\n",
       "      <td>-0.395844</td>\n",
       "      <td>-0.364818</td>\n",
       "      <td>0.415242</td>\n",
       "      <td>-0.221814</td>\n",
       "      <td>-0.101264</td>\n",
       "      <td>0.440193</td>\n",
       "    </tr>\n",
       "    <tr>\n",
       "      <th>exang</th>\n",
       "      <td>0.397218</td>\n",
       "      <td>0.123058</td>\n",
       "      <td>0.136478</td>\n",
       "      <td>-0.434243</td>\n",
       "      <td>0.067098</td>\n",
       "      <td>0.101345</td>\n",
       "      <td>0.033534</td>\n",
       "      <td>-0.061454</td>\n",
       "      <td>-0.395844</td>\n",
       "      <td>1.000000</td>\n",
       "      <td>0.305029</td>\n",
       "      <td>-0.254278</td>\n",
       "      <td>0.148762</td>\n",
       "      <td>0.200907</td>\n",
       "      <td>-0.479824</td>\n",
       "    </tr>\n",
       "    <tr>\n",
       "      <th>oldpeak</th>\n",
       "      <td>0.290046</td>\n",
       "      <td>0.221756</td>\n",
       "      <td>0.096863</td>\n",
       "      <td>-0.120185</td>\n",
       "      <td>0.206615</td>\n",
       "      <td>0.015427</td>\n",
       "      <td>0.049006</td>\n",
       "      <td>-0.053963</td>\n",
       "      <td>-0.364818</td>\n",
       "      <td>0.305029</td>\n",
       "      <td>1.000000</td>\n",
       "      <td>-0.575930</td>\n",
       "      <td>0.175787</td>\n",
       "      <td>0.241014</td>\n",
       "      <td>-0.429569</td>\n",
       "    </tr>\n",
       "    <tr>\n",
       "      <th>slope</th>\n",
       "      <td>-0.257103</td>\n",
       "      <td>-0.166574</td>\n",
       "      <td>-0.028669</td>\n",
       "      <td>0.093984</td>\n",
       "      <td>-0.122464</td>\n",
       "      <td>0.008472</td>\n",
       "      <td>-0.093053</td>\n",
       "      <td>0.117369</td>\n",
       "      <td>0.415242</td>\n",
       "      <td>-0.254278</td>\n",
       "      <td>-0.575930</td>\n",
       "      <td>1.000000</td>\n",
       "      <td>-0.031109</td>\n",
       "      <td>-0.099867</td>\n",
       "      <td>0.341142</td>\n",
       "    </tr>\n",
       "    <tr>\n",
       "      <th>ca</th>\n",
       "      <td>0.375470</td>\n",
       "      <td>0.262633</td>\n",
       "      <td>0.137520</td>\n",
       "      <td>-0.123558</td>\n",
       "      <td>0.097582</td>\n",
       "      <td>0.018424</td>\n",
       "      <td>0.088327</td>\n",
       "      <td>-0.091516</td>\n",
       "      <td>-0.221814</td>\n",
       "      <td>0.148762</td>\n",
       "      <td>0.175787</td>\n",
       "      <td>-0.031109</td>\n",
       "      <td>1.000000</td>\n",
       "      <td>0.110100</td>\n",
       "      <td>-0.375225</td>\n",
       "    </tr>\n",
       "    <tr>\n",
       "      <th>thal</th>\n",
       "      <td>0.269244</td>\n",
       "      <td>0.060891</td>\n",
       "      <td>0.220136</td>\n",
       "      <td>-0.176697</td>\n",
       "      <td>0.031946</td>\n",
       "      <td>0.096053</td>\n",
       "      <td>-0.072892</td>\n",
       "      <td>0.021055</td>\n",
       "      <td>-0.101264</td>\n",
       "      <td>0.200907</td>\n",
       "      <td>0.241014</td>\n",
       "      <td>-0.099867</td>\n",
       "      <td>0.110100</td>\n",
       "      <td>1.000000</td>\n",
       "      <td>-0.344250</td>\n",
       "    </tr>\n",
       "    <tr>\n",
       "      <th>target</th>\n",
       "      <td>-0.866391</td>\n",
       "      <td>-0.234145</td>\n",
       "      <td>-0.318666</td>\n",
       "      <td>0.397858</td>\n",
       "      <td>-0.167177</td>\n",
       "      <td>-0.035225</td>\n",
       "      <td>-0.021886</td>\n",
       "      <td>0.108372</td>\n",
       "      <td>0.440193</td>\n",
       "      <td>-0.479824</td>\n",
       "      <td>-0.429569</td>\n",
       "      <td>0.341142</td>\n",
       "      <td>-0.375225</td>\n",
       "      <td>-0.344250</td>\n",
       "      <td>1.000000</td>\n",
       "    </tr>\n",
       "  </tbody>\n",
       "</table>\n",
       "</div>"
      ],
      "text/plain": [
       "                ID       age       sex        cp  trestbps      chol  \\\n",
       "ID        1.000000  0.172234  0.198785 -0.348018  0.121732 -0.012450   \n",
       "age       0.172234  1.000000 -0.097568 -0.047036  0.269714  0.193554   \n",
       "sex       0.198785 -0.097568  1.000000 -0.013036 -0.026716 -0.181231   \n",
       "cp       -0.348018 -0.047036 -0.013036  1.000000  0.064463 -0.049294   \n",
       "trestbps  0.121732  0.269714 -0.026716  0.064463  1.000000  0.107065   \n",
       "chol     -0.012450  0.193554 -0.181231 -0.049294  0.107065  1.000000   \n",
       "fbs       0.010519  0.100004  0.100135  0.118727  0.169342 -0.015226   \n",
       "restecg   0.008488 -0.114881 -0.084655  0.033345 -0.072283 -0.135582   \n",
       "thalach  -0.412642 -0.416952  0.015444  0.272585 -0.079355 -0.003785   \n",
       "exang     0.397218  0.123058  0.136478 -0.434243  0.067098  0.101345   \n",
       "oldpeak   0.290046  0.221756  0.096863 -0.120185  0.206615  0.015427   \n",
       "slope    -0.257103 -0.166574 -0.028669  0.093984 -0.122464  0.008472   \n",
       "ca        0.375470  0.262633  0.137520 -0.123558  0.097582  0.018424   \n",
       "thal      0.269244  0.060891  0.220136 -0.176697  0.031946  0.096053   \n",
       "target   -0.866391 -0.234145 -0.318666  0.397858 -0.167177 -0.035225   \n",
       "\n",
       "               fbs   restecg   thalach     exang   oldpeak     slope  \\\n",
       "ID        0.010519  0.008488 -0.412642  0.397218  0.290046 -0.257103   \n",
       "age       0.100004 -0.114881 -0.416952  0.123058  0.221756 -0.166574   \n",
       "sex       0.100135 -0.084655  0.015444  0.136478  0.096863 -0.028669   \n",
       "cp        0.118727  0.033345  0.272585 -0.434243 -0.120185  0.093984   \n",
       "trestbps  0.169342 -0.072283 -0.079355  0.067098  0.206615 -0.122464   \n",
       "chol     -0.015226 -0.135582 -0.003785  0.101345  0.015427  0.008472   \n",
       "fbs       1.000000 -0.106056 -0.000066  0.033534  0.049006 -0.093053   \n",
       "restecg  -0.106056  1.000000  0.067636 -0.061454 -0.053963  0.117369   \n",
       "thalach  -0.000066  0.067636  1.000000 -0.395844 -0.364818  0.415242   \n",
       "exang     0.033534 -0.061454 -0.395844  1.000000  0.305029 -0.254278   \n",
       "oldpeak   0.049006 -0.053963 -0.364818  0.305029  1.000000 -0.575930   \n",
       "slope    -0.093053  0.117369  0.415242 -0.254278 -0.575930  1.000000   \n",
       "ca        0.088327 -0.091516 -0.221814  0.148762  0.175787 -0.031109   \n",
       "thal     -0.072892  0.021055 -0.101264  0.200907  0.241014 -0.099867   \n",
       "target   -0.021886  0.108372  0.440193 -0.479824 -0.429569  0.341142   \n",
       "\n",
       "                ca      thal    target  \n",
       "ID        0.375470  0.269244 -0.866391  \n",
       "age       0.262633  0.060891 -0.234145  \n",
       "sex       0.137520  0.220136 -0.318666  \n",
       "cp       -0.123558 -0.176697  0.397858  \n",
       "trestbps  0.097582  0.031946 -0.167177  \n",
       "chol      0.018424  0.096053 -0.035225  \n",
       "fbs       0.088327 -0.072892 -0.021886  \n",
       "restecg  -0.091516  0.021055  0.108372  \n",
       "thalach  -0.221814 -0.101264  0.440193  \n",
       "exang     0.148762  0.200907 -0.479824  \n",
       "oldpeak   0.175787  0.241014 -0.429569  \n",
       "slope    -0.031109 -0.099867  0.341142  \n",
       "ca        1.000000  0.110100 -0.375225  \n",
       "thal      0.110100  1.000000 -0.344250  \n",
       "target   -0.375225 -0.344250  1.000000  "
      ]
     },
     "execution_count": 11,
     "metadata": {},
     "output_type": "execute_result"
    }
   ],
   "source": [
    "#Defining the correlation between all parameters\n",
    "raw_data.corr()"
   ]
  },
  {
   "cell_type": "code",
   "execution_count": 12,
   "metadata": {
    "execution": {
     "iopub.execute_input": "2020-10-10T08:53:43.304255Z",
     "iopub.status.busy": "2020-10-10T08:53:43.303467Z",
     "iopub.status.idle": "2020-10-10T08:53:44.427452Z",
     "shell.execute_reply": "2020-10-10T08:53:44.428042Z"
    },
    "papermill": {
     "duration": 1.159414,
     "end_time": "2020-10-10T08:53:44.428221",
     "exception": false,
     "start_time": "2020-10-10T08:53:43.268807",
     "status": "completed"
    },
    "tags": []
   },
   "outputs": [
    {
     "data": {
      "text/plain": [
       "<matplotlib.axes._subplots.AxesSubplot at 0x7f109a37fc10>"
      ]
     },
     "execution_count": 12,
     "metadata": {},
     "output_type": "execute_result"
    },
    {
     "data": {
      "image/png": "[encoded data removed]",
      "text/plain": [
       "<Figure size 504x504 with 2 Axes>"
      ]
     },
     "metadata": {
      "needs_background": "light"
     },
     "output_type": "display_data"
    }
   ],
   "source": [
    "#Ploting the relationship of all parameters\n",
    "plt.figure(figsize = (7,7))\n",
    "sns.heatmap(raw_data.corr(), annot = True, fmt='.0%')"
   ]
  },
  {
   "cell_type": "code",
   "execution_count": 13,
   "metadata": {
    "execution": {
     "iopub.execute_input": "2020-10-10T08:53:44.499614Z",
     "iopub.status.busy": "2020-10-10T08:53:44.498624Z",
     "iopub.status.idle": "2020-10-10T08:53:44.502972Z",
     "shell.execute_reply": "2020-10-10T08:53:44.502182Z"
    },
    "papermill": {
     "duration": 0.042426,
     "end_time": "2020-10-10T08:53:44.503105",
     "exception": false,
     "start_time": "2020-10-10T08:53:44.460679",
     "status": "completed"
    },
    "tags": []
   },
   "outputs": [
    {
     "name": "stdout",
     "output_type": "stream",
     "text": [
      "Number of columns = 15\n"
     ]
    }
   ],
   "source": [
    "colms = raw_data.shape[1]\n",
    "print(\"Number of columns = {}\".format(colms))"
   ]
  },
  {
   "cell_type": "code",
   "execution_count": 14,
   "metadata": {
    "execution": {
     "iopub.execute_input": "2020-10-10T08:53:44.577804Z",
     "iopub.status.busy": "2020-10-10T08:53:44.576890Z",
     "iopub.status.idle": "2020-10-10T08:53:44.580422Z",
     "shell.execute_reply": "2020-10-10T08:53:44.581270Z"
    },
    "papermill": {
     "duration": 0.045163,
     "end_time": "2020-10-10T08:53:44.581460",
     "exception": false,
     "start_time": "2020-10-10T08:53:44.536297",
     "status": "completed"
    },
    "tags": []
   },
   "outputs": [
    {
     "name": "stdout",
     "output_type": "stream",
     "text": [
      "Shape of X is (253, 13) and Shape of Y is (253, 1)\n"
     ]
    }
   ],
   "source": [
    "# Creating an output y and input x \n",
    "# Also dropping Id parameter as it is not relevent data\n",
    "y_train = raw_data.iloc[:, colms-1:colms]\n",
    "x_train = raw_data.iloc[:, 1:colms-1]\n",
    "\n",
    "x_train = np.array(x_train)\n",
    "y_train = np.array(y_train)\n",
    "\n",
    "print(f\"Shape of X is {x_train.shape} and Shape of Y is {y_train.shape}\")"
   ]
  },
  {
   "cell_type": "code",
   "execution_count": 15,
   "metadata": {
    "execution": {
     "iopub.execute_input": "2020-10-10T08:53:44.655210Z",
     "iopub.status.busy": "2020-10-10T08:53:44.654462Z",
     "iopub.status.idle": "2020-10-10T08:53:44.689090Z",
     "shell.execute_reply": "2020-10-10T08:53:44.688348Z"
    },
    "papermill": {
     "duration": 0.073603,
     "end_time": "2020-10-10T08:53:44.689250",
     "exception": false,
     "start_time": "2020-10-10T08:53:44.615647",
     "status": "completed"
    },
    "tags": []
   },
   "outputs": [
    {
     "name": "stdout",
     "output_type": "stream",
     "text": [
      "(253, 13) (253, 1)\n"
     ]
    }
   ],
   "source": [
    "#Scaling the data\n",
    "from sklearn.preprocessing import StandardScaler\n",
    "x_scalar = StandardScaler()\n",
    "\n",
    "x_train = x_scalar.fit_transform(x_train)\n",
    "\n",
    "print(x_train.shape, y_train.shape)"
   ]
  },
  {
   "cell_type": "code",
   "execution_count": 16,
   "metadata": {
    "execution": {
     "iopub.execute_input": "2020-10-10T08:53:44.765733Z",
     "iopub.status.busy": "2020-10-10T08:53:44.764904Z",
     "iopub.status.idle": "2020-10-10T08:53:45.089652Z",
     "shell.execute_reply": "2020-10-10T08:53:45.090218Z"
    },
    "papermill": {
     "duration": 0.36727,
     "end_time": "2020-10-10T08:53:45.090378",
     "exception": false,
     "start_time": "2020-10-10T08:53:44.723108",
     "status": "completed"
    },
    "tags": []
   },
   "outputs": [
    {
     "name": "stderr",
     "output_type": "stream",
     "text": [
      "/opt/conda/lib/python3.7/site-packages/ipykernel_launcher.py:4: DataConversionWarning: A column-vector y was passed when a 1d array was expected. Please change the shape of y to (n_samples,), for example using ravel().\n",
      "  after removing the cwd from sys.path.\n"
     ]
    },
    {
     "data": {
      "text/plain": [
       "RandomForestClassifier(criterion='entropy', n_estimators=10, random_state=2)"
      ]
     },
     "execution_count": 16,
     "metadata": {},
     "output_type": "execute_result"
    }
   ],
   "source": [
    "#Model\n",
    "from sklearn.ensemble import RandomForestClassifier\n",
    "forest = RandomForestClassifier(n_estimators=10, criterion = 'entropy', random_state = 2)\n",
    "forest.fit(x_train, y_train)"
   ]
  },
  {
   "cell_type": "code",
   "execution_count": 17,
   "metadata": {
    "execution": {
     "iopub.execute_input": "2020-10-10T08:53:45.179940Z",
     "iopub.status.busy": "2020-10-10T08:53:45.179167Z",
     "iopub.status.idle": "2020-10-10T08:53:45.187277Z",
     "shell.execute_reply": "2020-10-10T08:53:45.186673Z"
    },
    "papermill": {
     "duration": 0.052593,
     "end_time": "2020-10-10T08:53:45.187400",
     "exception": false,
     "start_time": "2020-10-10T08:53:45.134807",
     "status": "completed"
    },
    "tags": []
   },
   "outputs": [
    {
     "data": {
      "text/plain": [
       "1.0"
      ]
     },
     "execution_count": 17,
     "metadata": {},
     "output_type": "execute_result"
    }
   ],
   "source": [
    "#Checking Model Score\n",
    "model = forest\n",
    "model.score(x_train, y_train)"
   ]
  },
  {
   "cell_type": "code",
   "execution_count": 18,
   "metadata": {
    "execution": {
     "iopub.execute_input": "2020-10-10T08:53:45.266220Z",
     "iopub.status.busy": "2020-10-10T08:53:45.265089Z",
     "iopub.status.idle": "2020-10-10T08:53:45.284779Z",
     "shell.execute_reply": "2020-10-10T08:53:45.285332Z"
    },
    "papermill": {
     "duration": 0.061794,
     "end_time": "2020-10-10T08:53:45.285494",
     "exception": false,
     "start_time": "2020-10-10T08:53:45.223700",
     "status": "completed"
    },
    "tags": []
   },
   "outputs": [
    {
     "data": {
      "text/html": [
       "<div>\n",
       "<style scoped>\n",
       "    .dataframe tbody tr th:only-of-type {\n",
       "        vertical-align: middle;\n",
       "    }\n",
       "\n",
       "    .dataframe tbody tr th {\n",
       "        vertical-align: top;\n",
       "    }\n",
       "\n",
       "    .dataframe thead th {\n",
       "        text-align: right;\n",
       "    }\n",
       "</style>\n",
       "<table border=\"1\" class=\"dataframe\">\n",
       "  <thead>\n",
       "    <tr style=\"text-align: right;\">\n",
       "      <th></th>\n",
       "      <th>ID</th>\n",
       "      <th>age</th>\n",
       "      <th>sex</th>\n",
       "      <th>cp</th>\n",
       "      <th>trestbps</th>\n",
       "      <th>chol</th>\n",
       "      <th>fbs</th>\n",
       "      <th>restecg</th>\n",
       "      <th>thalach</th>\n",
       "      <th>exang</th>\n",
       "      <th>oldpeak</th>\n",
       "      <th>slope</th>\n",
       "      <th>ca</th>\n",
       "      <th>thal</th>\n",
       "    </tr>\n",
       "  </thead>\n",
       "  <tbody>\n",
       "    <tr>\n",
       "      <th>0</th>\n",
       "      <td>128</td>\n",
       "      <td>67</td>\n",
       "      <td>0</td>\n",
       "      <td>2</td>\n",
       "      <td>152</td>\n",
       "      <td>277</td>\n",
       "      <td>0</td>\n",
       "      <td>1</td>\n",
       "      <td>172</td>\n",
       "      <td>0</td>\n",
       "      <td>0.0</td>\n",
       "      <td>2</td>\n",
       "      <td>1</td>\n",
       "      <td>2</td>\n",
       "    </tr>\n",
       "    <tr>\n",
       "      <th>1</th>\n",
       "      <td>232</td>\n",
       "      <td>57</td>\n",
       "      <td>1</td>\n",
       "      <td>0</td>\n",
       "      <td>165</td>\n",
       "      <td>289</td>\n",
       "      <td>1</td>\n",
       "      <td>0</td>\n",
       "      <td>124</td>\n",
       "      <td>0</td>\n",
       "      <td>1.0</td>\n",
       "      <td>1</td>\n",
       "      <td>3</td>\n",
       "      <td>3</td>\n",
       "    </tr>\n",
       "    <tr>\n",
       "      <th>2</th>\n",
       "      <td>220</td>\n",
       "      <td>48</td>\n",
       "      <td>1</td>\n",
       "      <td>0</td>\n",
       "      <td>130</td>\n",
       "      <td>256</td>\n",
       "      <td>1</td>\n",
       "      <td>0</td>\n",
       "      <td>150</td>\n",
       "      <td>1</td>\n",
       "      <td>0.0</td>\n",
       "      <td>2</td>\n",
       "      <td>2</td>\n",
       "      <td>3</td>\n",
       "    </tr>\n",
       "    <tr>\n",
       "      <th>3</th>\n",
       "      <td>184</td>\n",
       "      <td>58</td>\n",
       "      <td>1</td>\n",
       "      <td>2</td>\n",
       "      <td>112</td>\n",
       "      <td>230</td>\n",
       "      <td>0</td>\n",
       "      <td>0</td>\n",
       "      <td>165</td>\n",
       "      <td>0</td>\n",
       "      <td>2.5</td>\n",
       "      <td>1</td>\n",
       "      <td>1</td>\n",
       "      <td>3</td>\n",
       "    </tr>\n",
       "    <tr>\n",
       "      <th>4</th>\n",
       "      <td>25</td>\n",
       "      <td>40</td>\n",
       "      <td>1</td>\n",
       "      <td>3</td>\n",
       "      <td>140</td>\n",
       "      <td>199</td>\n",
       "      <td>0</td>\n",
       "      <td>1</td>\n",
       "      <td>178</td>\n",
       "      <td>1</td>\n",
       "      <td>1.4</td>\n",
       "      <td>2</td>\n",
       "      <td>0</td>\n",
       "      <td>3</td>\n",
       "    </tr>\n",
       "  </tbody>\n",
       "</table>\n",
       "</div>"
      ],
      "text/plain": [
       "    ID  age  sex  cp  trestbps  chol  fbs  restecg  thalach  exang  oldpeak  \\\n",
       "0  128   67    0   2       152   277    0        1      172      0      0.0   \n",
       "1  232   57    1   0       165   289    1        0      124      0      1.0   \n",
       "2  220   48    1   0       130   256    1        0      150      1      0.0   \n",
       "3  184   58    1   2       112   230    0        0      165      0      2.5   \n",
       "4   25   40    1   3       140   199    0        1      178      1      1.4   \n",
       "\n",
       "   slope  ca  thal  \n",
       "0      2   1     2  \n",
       "1      1   3     3  \n",
       "2      2   2     3  \n",
       "3      1   1     3  \n",
       "4      2   0     3  "
      ]
     },
     "execution_count": 18,
     "metadata": {},
     "output_type": "execute_result"
    }
   ],
   "source": [
    "#Test Input Data & Making Predictions\n",
    "pred_data = pd.read_csv('../input/MLChallenge-2/Test.csv')\n",
    "pred_data.head()"
   ]
  },
  {
   "cell_type": "code",
   "execution_count": 19,
   "metadata": {
    "execution": {
     "iopub.execute_input": "2020-10-10T08:53:45.367031Z",
     "iopub.status.busy": "2020-10-10T08:53:45.366200Z",
     "iopub.status.idle": "2020-10-10T08:53:45.369363Z",
     "shell.execute_reply": "2020-10-10T08:53:45.369919Z"
    },
    "papermill": {
     "duration": 0.046637,
     "end_time": "2020-10-10T08:53:45.370061",
     "exception": false,
     "start_time": "2020-10-10T08:53:45.323424",
     "status": "completed"
    },
    "tags": []
   },
   "outputs": [
    {
     "name": "stdout",
     "output_type": "stream",
     "text": [
      "Number of columns = 15\n"
     ]
    }
   ],
   "source": [
    "# Dropping Id parameter as it is not relevent to data output\n",
    "colms = raw_data.shape[1]\n",
    "print(\"Number of columns = {}\".format(colms))\n",
    "\n",
    "pred_data = pred_data.iloc[:, 1:colms]"
   ]
  },
  {
   "cell_type": "code",
   "execution_count": 20,
   "metadata": {
    "execution": {
     "iopub.execute_input": "2020-10-10T08:53:45.459958Z",
     "iopub.status.busy": "2020-10-10T08:53:45.458865Z",
     "iopub.status.idle": "2020-10-10T08:53:45.463479Z",
     "shell.execute_reply": "2020-10-10T08:53:45.462882Z"
    },
    "papermill": {
     "duration": 0.05691,
     "end_time": "2020-10-10T08:53:45.463612",
     "exception": false,
     "start_time": "2020-10-10T08:53:45.406702",
     "status": "completed"
    },
    "tags": []
   },
   "outputs": [
    {
     "data": {
      "text/html": [
       "<div>\n",
       "<style scoped>\n",
       "    .dataframe tbody tr th:only-of-type {\n",
       "        vertical-align: middle;\n",
       "    }\n",
       "\n",
       "    .dataframe tbody tr th {\n",
       "        vertical-align: top;\n",
       "    }\n",
       "\n",
       "    .dataframe thead th {\n",
       "        text-align: right;\n",
       "    }\n",
       "</style>\n",
       "<table border=\"1\" class=\"dataframe\">\n",
       "  <thead>\n",
       "    <tr style=\"text-align: right;\">\n",
       "      <th></th>\n",
       "      <th>age</th>\n",
       "      <th>sex</th>\n",
       "      <th>cp</th>\n",
       "      <th>trestbps</th>\n",
       "      <th>chol</th>\n",
       "      <th>fbs</th>\n",
       "      <th>restecg</th>\n",
       "      <th>thalach</th>\n",
       "      <th>exang</th>\n",
       "      <th>oldpeak</th>\n",
       "      <th>slope</th>\n",
       "      <th>ca</th>\n",
       "      <th>thal</th>\n",
       "    </tr>\n",
       "  </thead>\n",
       "  <tbody>\n",
       "    <tr>\n",
       "      <th>0</th>\n",
       "      <td>67</td>\n",
       "      <td>0</td>\n",
       "      <td>2</td>\n",
       "      <td>152</td>\n",
       "      <td>277</td>\n",
       "      <td>0</td>\n",
       "      <td>1</td>\n",
       "      <td>172</td>\n",
       "      <td>0</td>\n",
       "      <td>0.0</td>\n",
       "      <td>2</td>\n",
       "      <td>1</td>\n",
       "      <td>2</td>\n",
       "    </tr>\n",
       "    <tr>\n",
       "      <th>1</th>\n",
       "      <td>57</td>\n",
       "      <td>1</td>\n",
       "      <td>0</td>\n",
       "      <td>165</td>\n",
       "      <td>289</td>\n",
       "      <td>1</td>\n",
       "      <td>0</td>\n",
       "      <td>124</td>\n",
       "      <td>0</td>\n",
       "      <td>1.0</td>\n",
       "      <td>1</td>\n",
       "      <td>3</td>\n",
       "      <td>3</td>\n",
       "    </tr>\n",
       "    <tr>\n",
       "      <th>2</th>\n",
       "      <td>48</td>\n",
       "      <td>1</td>\n",
       "      <td>0</td>\n",
       "      <td>130</td>\n",
       "      <td>256</td>\n",
       "      <td>1</td>\n",
       "      <td>0</td>\n",
       "      <td>150</td>\n",
       "      <td>1</td>\n",
       "      <td>0.0</td>\n",
       "      <td>2</td>\n",
       "      <td>2</td>\n",
       "      <td>3</td>\n",
       "    </tr>\n",
       "    <tr>\n",
       "      <th>3</th>\n",
       "      <td>58</td>\n",
       "      <td>1</td>\n",
       "      <td>2</td>\n",
       "      <td>112</td>\n",
       "      <td>230</td>\n",
       "      <td>0</td>\n",
       "      <td>0</td>\n",
       "      <td>165</td>\n",
       "      <td>0</td>\n",
       "      <td>2.5</td>\n",
       "      <td>1</td>\n",
       "      <td>1</td>\n",
       "      <td>3</td>\n",
       "    </tr>\n",
       "    <tr>\n",
       "      <th>4</th>\n",
       "      <td>40</td>\n",
       "      <td>1</td>\n",
       "      <td>3</td>\n",
       "      <td>140</td>\n",
       "      <td>199</td>\n",
       "      <td>0</td>\n",
       "      <td>1</td>\n",
       "      <td>178</td>\n",
       "      <td>1</td>\n",
       "      <td>1.4</td>\n",
       "      <td>2</td>\n",
       "      <td>0</td>\n",
       "      <td>3</td>\n",
       "    </tr>\n",
       "  </tbody>\n",
       "</table>\n",
       "</div>"
      ],
      "text/plain": [
       "   age  sex  cp  trestbps  chol  fbs  restecg  thalach  exang  oldpeak  slope  \\\n",
       "0   67    0   2       152   277    0        1      172      0      0.0      2   \n",
       "1   57    1   0       165   289    1        0      124      0      1.0      1   \n",
       "2   48    1   0       130   256    1        0      150      1      0.0      2   \n",
       "3   58    1   2       112   230    0        0      165      0      2.5      1   \n",
       "4   40    1   3       140   199    0        1      178      1      1.4      2   \n",
       "\n",
       "   ca  thal  \n",
       "0   1     2  \n",
       "1   3     3  \n",
       "2   2     3  \n",
       "3   1     3  \n",
       "4   0     3  "
      ]
     },
     "execution_count": 20,
     "metadata": {},
     "output_type": "execute_result"
    }
   ],
   "source": [
    "pred_data.head()"
   ]
  },
  {
   "cell_type": "code",
   "execution_count": 21,
   "metadata": {
    "execution": {
     "iopub.execute_input": "2020-10-10T08:53:45.547621Z",
     "iopub.status.busy": "2020-10-10T08:53:45.546821Z",
     "iopub.status.idle": "2020-10-10T08:53:45.551230Z",
     "shell.execute_reply": "2020-10-10T08:53:45.550516Z"
    },
    "papermill": {
     "duration": 0.050042,
     "end_time": "2020-10-10T08:53:45.551348",
     "exception": false,
     "start_time": "2020-10-10T08:53:45.501306",
     "status": "completed"
    },
    "tags": []
   },
   "outputs": [
    {
     "data": {
      "text/plain": [
       "age         0\n",
       "sex         0\n",
       "cp          0\n",
       "trestbps    0\n",
       "chol        0\n",
       "fbs         0\n",
       "restecg     0\n",
       "thalach     0\n",
       "exang       0\n",
       "oldpeak     0\n",
       "slope       0\n",
       "ca          0\n",
       "thal        0\n",
       "dtype: int64"
      ]
     },
     "execution_count": 21,
     "metadata": {},
     "output_type": "execute_result"
    }
   ],
   "source": [
    "#Checking for Missing values in Test Input Data\n",
    "#We also check for Caregorical Data but that isn't present so no need to label encode any part of data\n",
    "pred_data.isnull().sum(axis=0)"
   ]
  },
  {
   "cell_type": "code",
   "execution_count": 22,
   "metadata": {
    "execution": {
     "iopub.execute_input": "2020-10-10T08:53:45.634329Z",
     "iopub.status.busy": "2020-10-10T08:53:45.633492Z",
     "iopub.status.idle": "2020-10-10T08:53:45.638147Z",
     "shell.execute_reply": "2020-10-10T08:53:45.637415Z"
    },
    "papermill": {
     "duration": 0.048807,
     "end_time": "2020-10-10T08:53:45.638272",
     "exception": false,
     "start_time": "2020-10-10T08:53:45.589465",
     "status": "completed"
    },
    "tags": []
   },
   "outputs": [
    {
     "data": {
      "text/plain": [
       "False"
      ]
     },
     "execution_count": 22,
     "metadata": {},
     "output_type": "execute_result"
    }
   ],
   "source": [
    "#Re-ensuring missing value in Test Input Data\n",
    "pred_data.isnull().values.any()"
   ]
  },
  {
   "cell_type": "code",
   "execution_count": 23,
   "metadata": {
    "execution": {
     "iopub.execute_input": "2020-10-10T08:53:45.724753Z",
     "iopub.status.busy": "2020-10-10T08:53:45.723815Z",
     "iopub.status.idle": "2020-10-10T08:53:45.727921Z",
     "shell.execute_reply": "2020-10-10T08:53:45.728512Z"
    },
    "papermill": {
     "duration": 0.051197,
     "end_time": "2020-10-10T08:53:45.728687",
     "exception": false,
     "start_time": "2020-10-10T08:53:45.677490",
     "status": "completed"
    },
    "tags": []
   },
   "outputs": [
    {
     "name": "stdout",
     "output_type": "stream",
     "text": [
      "(50, 13)\n"
     ]
    }
   ],
   "source": [
    "#Converting pred_data into a numpy array\n",
    "pred_data = np.array(pred_data)\n",
    "\n",
    "#Scaling the Test Input Data\n",
    "from sklearn.preprocessing import StandardScaler\n",
    "x_scalar = StandardScaler()\n",
    "\n",
    "pred_data = x_scalar.fit_transform(pred_data)\n",
    "\n",
    "print(pred_data.shape)"
   ]
  },
  {
   "cell_type": "code",
   "execution_count": 24,
   "metadata": {
    "execution": {
     "iopub.execute_input": "2020-10-10T08:53:45.816633Z",
     "iopub.status.busy": "2020-10-10T08:53:45.815644Z",
     "iopub.status.idle": "2020-10-10T08:53:45.819825Z",
     "shell.execute_reply": "2020-10-10T08:53:45.819231Z"
    },
    "papermill": {
     "duration": 0.051299,
     "end_time": "2020-10-10T08:53:45.819940",
     "exception": false,
     "start_time": "2020-10-10T08:53:45.768641",
     "status": "completed"
    },
    "tags": []
   },
   "outputs": [
    {
     "name": "stdout",
     "output_type": "stream",
     "text": [
      "(50,)\n"
     ]
    }
   ],
   "source": [
    "#Making Predictions\n",
    "y_pred = model.predict(pred_data)\n",
    "print(y_pred.shape)"
   ]
  },
  {
   "cell_type": "code",
   "execution_count": 25,
   "metadata": {
    "execution": {
     "iopub.execute_input": "2020-10-10T08:53:45.905632Z",
     "iopub.status.busy": "2020-10-10T08:53:45.904861Z",
     "iopub.status.idle": "2020-10-10T08:53:45.908981Z",
     "shell.execute_reply": "2020-10-10T08:53:45.909537Z"
    },
    "papermill": {
     "duration": 0.049739,
     "end_time": "2020-10-10T08:53:45.909715",
     "exception": false,
     "start_time": "2020-10-10T08:53:45.859976",
     "status": "completed"
    },
    "tags": []
   },
   "outputs": [
    {
     "name": "stdout",
     "output_type": "stream",
     "text": [
      "[1 0 0 0 0 1 1 1 0 1 1 0 1 1 0 0 1 1 0 0 0 1 1 0 1 0 0 0 0 0 1 1 0 0 1 1 0\n",
      " 0 0 1 0 0 1 1 0 1 1 0 0 1]\n"
     ]
    }
   ],
   "source": [
    "#The Predictions\n",
    "print(y_pred)"
   ]
  }
 ],
 "metadata": {
  "kernelspec": {
   "display_name": "Python 3",
   "language": "python",
   "name": "python3"
  },
  "language_info": {
   "codemirror_mode": {
    "name": "ipython",
    "version": 3
   },
   "file_extension": ".py",
   "mimetype": "text/x-python",
   "name": "python",
   "nbconvert_exporter": "python",
   "pygments_lexer": "ipython3",
   "version": "3.7.6"
  },
  "papermill": {
   "duration": 10.187419,
   "end_time": "2020-10-10T08:53:46.058793",
   "environment_variables": {},
   "exception": null,
   "input_path": "__notebook__.ipynb",
   "output_path": "__notebook__.ipynb",
   "parameters": {},
   "start_time": "2020-10-10T08:53:35.871374",
   "version": "2.1.0"
  }
 },
 "nbformat": 4,
 "nbformat_minor": 4
}
